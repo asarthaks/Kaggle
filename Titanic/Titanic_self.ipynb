{
  "cells": [
    {
      "metadata": {
        "_uuid": "8f2839f25d086af736a60e9eeb907d3b93b6e0e5",
        "_cell_guid": "b1076dfc-b9ad-4769-8c92-a6c4dae69d19",
        "trusted": true
      },
      "cell_type": "code",
      "source": "# This Python 3 environment comes with many helpful analytics libraries installed\n# It is defined by the kaggle/python docker image: https://github.com/kaggle/docker-python\n# For example, here's several helpful packages to load in \n\nimport numpy as np # linear algebra\nimport pandas as pd # data processing, CSV file I/O (e.g. pd.read_csv)\nfrom sklearn.preprocessing import LabelEncoder, OneHotEncoder\n\n# Input data files are available in the \"../input/\" directory.\n# For example, running this (by clicking run or pressing Shift+Enter) will list the files in the input directory\n\nimport os\nprint(os.listdir(\"../input\"))\n\n# Any results you write to the current directory are saved as output.",
      "execution_count": 1,
      "outputs": [
        {
          "output_type": "stream",
          "text": "['train.csv', 'gender_submission.csv', 'test.csv']\n",
          "name": "stdout"
        }
      ]
    },
    {
      "metadata": {
        "_cell_guid": "79c7e3d0-c299-4dcb-8224-4455121ee9b0",
        "_uuid": "d629ff2d2480ee46fbb7e2d37f6b5fab8052498a",
        "trusted": true,
        "collapsed": true
      },
      "cell_type": "code",
      "source": "df_train = pd.read_csv(\"../input/train.csv\")\ndf_test = pd.read_csv(\"../input/test.csv\")",
      "execution_count": 152,
      "outputs": []
    },
    {
      "metadata": {
        "trusted": true,
        "_uuid": "f7ae608e355f60e9b5a4de614eb305ccc8b614af"
      },
      "cell_type": "code",
      "source": "df_train.head()",
      "execution_count": 153,
      "outputs": [
        {
          "output_type": "execute_result",
          "execution_count": 153,
          "data": {
            "text/plain": "   PassengerId  Survived  Pclass    ...        Fare Cabin  Embarked\n0            1         0       3    ...      7.2500   NaN         S\n1            2         1       1    ...     71.2833   C85         C\n2            3         1       3    ...      7.9250   NaN         S\n3            4         1       1    ...     53.1000  C123         S\n4            5         0       3    ...      8.0500   NaN         S\n\n[5 rows x 12 columns]",
            "text/html": "<div>\n<style scoped>\n    .dataframe tbody tr th:only-of-type {\n        vertical-align: middle;\n    }\n\n    .dataframe tbody tr th {\n        vertical-align: top;\n    }\n\n    .dataframe thead th {\n        text-align: right;\n    }\n</style>\n<table border=\"1\" class=\"dataframe\">\n  <thead>\n    <tr style=\"text-align: right;\">\n      <th></th>\n      <th>PassengerId</th>\n      <th>Survived</th>\n      <th>Pclass</th>\n      <th>Name</th>\n      <th>Sex</th>\n      <th>Age</th>\n      <th>SibSp</th>\n      <th>Parch</th>\n      <th>Ticket</th>\n      <th>Fare</th>\n      <th>Cabin</th>\n      <th>Embarked</th>\n    </tr>\n  </thead>\n  <tbody>\n    <tr>\n      <th>0</th>\n      <td>1</td>\n      <td>0</td>\n      <td>3</td>\n      <td>Braund, Mr. Owen Harris</td>\n      <td>male</td>\n      <td>22.0</td>\n      <td>1</td>\n      <td>0</td>\n      <td>A/5 21171</td>\n      <td>7.2500</td>\n      <td>NaN</td>\n      <td>S</td>\n    </tr>\n    <tr>\n      <th>1</th>\n      <td>2</td>\n      <td>1</td>\n      <td>1</td>\n      <td>Cumings, Mrs. John Bradley (Florence Briggs Th...</td>\n      <td>female</td>\n      <td>38.0</td>\n      <td>1</td>\n      <td>0</td>\n      <td>PC 17599</td>\n      <td>71.2833</td>\n      <td>C85</td>\n      <td>C</td>\n    </tr>\n    <tr>\n      <th>2</th>\n      <td>3</td>\n      <td>1</td>\n      <td>3</td>\n      <td>Heikkinen, Miss. Laina</td>\n      <td>female</td>\n      <td>26.0</td>\n      <td>0</td>\n      <td>0</td>\n      <td>STON/O2. 3101282</td>\n      <td>7.9250</td>\n      <td>NaN</td>\n      <td>S</td>\n    </tr>\n    <tr>\n      <th>3</th>\n      <td>4</td>\n      <td>1</td>\n      <td>1</td>\n      <td>Futrelle, Mrs. Jacques Heath (Lily May Peel)</td>\n      <td>female</td>\n      <td>35.0</td>\n      <td>1</td>\n      <td>0</td>\n      <td>113803</td>\n      <td>53.1000</td>\n      <td>C123</td>\n      <td>S</td>\n    </tr>\n    <tr>\n      <th>4</th>\n      <td>5</td>\n      <td>0</td>\n      <td>3</td>\n      <td>Allen, Mr. William Henry</td>\n      <td>male</td>\n      <td>35.0</td>\n      <td>0</td>\n      <td>0</td>\n      <td>373450</td>\n      <td>8.0500</td>\n      <td>NaN</td>\n      <td>S</td>\n    </tr>\n  </tbody>\n</table>\n</div>"
          },
          "metadata": {}
        }
      ]
    },
    {
      "metadata": {
        "trusted": true,
        "_uuid": "5f710b8ac1d5275cd1259da03f2dbff4fa1e4c77",
        "collapsed": true
      },
      "cell_type": "code",
      "source": "train = df_train",
      "execution_count": 154,
      "outputs": []
    },
    {
      "metadata": {
        "trusted": true,
        "_uuid": "125bd53c2c6f06eabf90d10d2ff3f1af9f77f2ab"
      },
      "cell_type": "code",
      "source": "train.info()",
      "execution_count": 155,
      "outputs": [
        {
          "output_type": "stream",
          "text": "<class 'pandas.core.frame.DataFrame'>\nRangeIndex: 891 entries, 0 to 890\nData columns (total 12 columns):\nPassengerId    891 non-null int64\nSurvived       891 non-null int64\nPclass         891 non-null int64\nName           891 non-null object\nSex            891 non-null object\nAge            714 non-null float64\nSibSp          891 non-null int64\nParch          891 non-null int64\nTicket         891 non-null object\nFare           891 non-null float64\nCabin          204 non-null object\nEmbarked       889 non-null object\ndtypes: float64(2), int64(5), object(5)\nmemory usage: 83.6+ KB\n",
          "name": "stdout"
        }
      ]
    },
    {
      "metadata": {
        "trusted": true,
        "_uuid": "38b2f8ae418d5638d9d17f9828a764e913a03d60",
        "collapsed": true
      },
      "cell_type": "code",
      "source": "#complete age with median\ntrain['Age'].fillna(train['Age'].median(), inplace = True)\n\n#complete embarked with mode\ntrain['Embarked'].fillna(train['Embarked'].mode()[0], inplace = True)",
      "execution_count": 156,
      "outputs": []
    },
    {
      "metadata": {
        "trusted": true,
        "_uuid": "20d6398cfabe7d5149677a694d28f577366fc89b"
      },
      "cell_type": "code",
      "source": "train.info()",
      "execution_count": 157,
      "outputs": [
        {
          "output_type": "stream",
          "text": "<class 'pandas.core.frame.DataFrame'>\nRangeIndex: 891 entries, 0 to 890\nData columns (total 12 columns):\nPassengerId    891 non-null int64\nSurvived       891 non-null int64\nPclass         891 non-null int64\nName           891 non-null object\nSex            891 non-null object\nAge            891 non-null float64\nSibSp          891 non-null int64\nParch          891 non-null int64\nTicket         891 non-null object\nFare           891 non-null float64\nCabin          204 non-null object\nEmbarked       891 non-null object\ndtypes: float64(2), int64(5), object(5)\nmemory usage: 83.6+ KB\n",
          "name": "stdout"
        }
      ]
    },
    {
      "metadata": {
        "trusted": true,
        "_uuid": "0425126414d800d7950f36b2dcbdb9b8254bb5a6"
      },
      "cell_type": "code",
      "source": "train.head()",
      "execution_count": 158,
      "outputs": [
        {
          "output_type": "execute_result",
          "execution_count": 158,
          "data": {
            "text/plain": "   PassengerId  Survived  Pclass    ...        Fare Cabin  Embarked\n0            1         0       3    ...      7.2500   NaN         S\n1            2         1       1    ...     71.2833   C85         C\n2            3         1       3    ...      7.9250   NaN         S\n3            4         1       1    ...     53.1000  C123         S\n4            5         0       3    ...      8.0500   NaN         S\n\n[5 rows x 12 columns]",
            "text/html": "<div>\n<style scoped>\n    .dataframe tbody tr th:only-of-type {\n        vertical-align: middle;\n    }\n\n    .dataframe tbody tr th {\n        vertical-align: top;\n    }\n\n    .dataframe thead th {\n        text-align: right;\n    }\n</style>\n<table border=\"1\" class=\"dataframe\">\n  <thead>\n    <tr style=\"text-align: right;\">\n      <th></th>\n      <th>PassengerId</th>\n      <th>Survived</th>\n      <th>Pclass</th>\n      <th>Name</th>\n      <th>Sex</th>\n      <th>Age</th>\n      <th>SibSp</th>\n      <th>Parch</th>\n      <th>Ticket</th>\n      <th>Fare</th>\n      <th>Cabin</th>\n      <th>Embarked</th>\n    </tr>\n  </thead>\n  <tbody>\n    <tr>\n      <th>0</th>\n      <td>1</td>\n      <td>0</td>\n      <td>3</td>\n      <td>Braund, Mr. Owen Harris</td>\n      <td>male</td>\n      <td>22.0</td>\n      <td>1</td>\n      <td>0</td>\n      <td>A/5 21171</td>\n      <td>7.2500</td>\n      <td>NaN</td>\n      <td>S</td>\n    </tr>\n    <tr>\n      <th>1</th>\n      <td>2</td>\n      <td>1</td>\n      <td>1</td>\n      <td>Cumings, Mrs. John Bradley (Florence Briggs Th...</td>\n      <td>female</td>\n      <td>38.0</td>\n      <td>1</td>\n      <td>0</td>\n      <td>PC 17599</td>\n      <td>71.2833</td>\n      <td>C85</td>\n      <td>C</td>\n    </tr>\n    <tr>\n      <th>2</th>\n      <td>3</td>\n      <td>1</td>\n      <td>3</td>\n      <td>Heikkinen, Miss. Laina</td>\n      <td>female</td>\n      <td>26.0</td>\n      <td>0</td>\n      <td>0</td>\n      <td>STON/O2. 3101282</td>\n      <td>7.9250</td>\n      <td>NaN</td>\n      <td>S</td>\n    </tr>\n    <tr>\n      <th>3</th>\n      <td>4</td>\n      <td>1</td>\n      <td>1</td>\n      <td>Futrelle, Mrs. Jacques Heath (Lily May Peel)</td>\n      <td>female</td>\n      <td>35.0</td>\n      <td>1</td>\n      <td>0</td>\n      <td>113803</td>\n      <td>53.1000</td>\n      <td>C123</td>\n      <td>S</td>\n    </tr>\n    <tr>\n      <th>4</th>\n      <td>5</td>\n      <td>0</td>\n      <td>3</td>\n      <td>Allen, Mr. William Henry</td>\n      <td>male</td>\n      <td>35.0</td>\n      <td>0</td>\n      <td>0</td>\n      <td>373450</td>\n      <td>8.0500</td>\n      <td>NaN</td>\n      <td>S</td>\n    </tr>\n  </tbody>\n</table>\n</div>"
          },
          "metadata": {}
        }
      ]
    },
    {
      "metadata": {
        "trusted": true,
        "_uuid": "72950edd2642dcbafcbfbce6cfcf5905e185a68b"
      },
      "cell_type": "code",
      "source": "train.tail()",
      "execution_count": 159,
      "outputs": [
        {
          "output_type": "execute_result",
          "execution_count": 159,
          "data": {
            "text/plain": "     PassengerId  Survived  Pclass    ...      Fare Cabin  Embarked\n886          887         0       2    ...     13.00   NaN         S\n887          888         1       1    ...     30.00   B42         S\n888          889         0       3    ...     23.45   NaN         S\n889          890         1       1    ...     30.00  C148         C\n890          891         0       3    ...      7.75   NaN         Q\n\n[5 rows x 12 columns]",
            "text/html": "<div>\n<style scoped>\n    .dataframe tbody tr th:only-of-type {\n        vertical-align: middle;\n    }\n\n    .dataframe tbody tr th {\n        vertical-align: top;\n    }\n\n    .dataframe thead th {\n        text-align: right;\n    }\n</style>\n<table border=\"1\" class=\"dataframe\">\n  <thead>\n    <tr style=\"text-align: right;\">\n      <th></th>\n      <th>PassengerId</th>\n      <th>Survived</th>\n      <th>Pclass</th>\n      <th>Name</th>\n      <th>Sex</th>\n      <th>Age</th>\n      <th>SibSp</th>\n      <th>Parch</th>\n      <th>Ticket</th>\n      <th>Fare</th>\n      <th>Cabin</th>\n      <th>Embarked</th>\n    </tr>\n  </thead>\n  <tbody>\n    <tr>\n      <th>886</th>\n      <td>887</td>\n      <td>0</td>\n      <td>2</td>\n      <td>Montvila, Rev. Juozas</td>\n      <td>male</td>\n      <td>27.0</td>\n      <td>0</td>\n      <td>0</td>\n      <td>211536</td>\n      <td>13.00</td>\n      <td>NaN</td>\n      <td>S</td>\n    </tr>\n    <tr>\n      <th>887</th>\n      <td>888</td>\n      <td>1</td>\n      <td>1</td>\n      <td>Graham, Miss. Margaret Edith</td>\n      <td>female</td>\n      <td>19.0</td>\n      <td>0</td>\n      <td>0</td>\n      <td>112053</td>\n      <td>30.00</td>\n      <td>B42</td>\n      <td>S</td>\n    </tr>\n    <tr>\n      <th>888</th>\n      <td>889</td>\n      <td>0</td>\n      <td>3</td>\n      <td>Johnston, Miss. Catherine Helen \"Carrie\"</td>\n      <td>female</td>\n      <td>28.0</td>\n      <td>1</td>\n      <td>2</td>\n      <td>W./C. 6607</td>\n      <td>23.45</td>\n      <td>NaN</td>\n      <td>S</td>\n    </tr>\n    <tr>\n      <th>889</th>\n      <td>890</td>\n      <td>1</td>\n      <td>1</td>\n      <td>Behr, Mr. Karl Howell</td>\n      <td>male</td>\n      <td>26.0</td>\n      <td>0</td>\n      <td>0</td>\n      <td>111369</td>\n      <td>30.00</td>\n      <td>C148</td>\n      <td>C</td>\n    </tr>\n    <tr>\n      <th>890</th>\n      <td>891</td>\n      <td>0</td>\n      <td>3</td>\n      <td>Dooley, Mr. Patrick</td>\n      <td>male</td>\n      <td>32.0</td>\n      <td>0</td>\n      <td>0</td>\n      <td>370376</td>\n      <td>7.75</td>\n      <td>NaN</td>\n      <td>Q</td>\n    </tr>\n  </tbody>\n</table>\n</div>"
          },
          "metadata": {}
        }
      ]
    },
    {
      "metadata": {
        "trusted": true,
        "collapsed": true,
        "_uuid": "0292ba68c0048fa9b97723296cd9b7eb51b23cba"
      },
      "cell_type": "code",
      "source": "del train['Name']\ndel train['Ticket']\ndel train['Cabin']\ndel train['PassengerId']",
      "execution_count": 160,
      "outputs": []
    },
    {
      "metadata": {
        "trusted": true,
        "collapsed": true,
        "_uuid": "2377b6acf7c320111f9d664c16c7d725bdcd1800"
      },
      "cell_type": "code",
      "source": "",
      "execution_count": null,
      "outputs": []
    },
    {
      "metadata": {
        "trusted": true,
        "_uuid": "5c05f1014b9a0451173e20e6aaeb9dda84ed8f05"
      },
      "cell_type": "code",
      "source": "train.head()",
      "execution_count": 161,
      "outputs": [
        {
          "output_type": "execute_result",
          "execution_count": 161,
          "data": {
            "text/plain": "   Survived  Pclass     Sex   Age  SibSp  Parch     Fare Embarked\n0         0       3    male  22.0      1      0   7.2500        S\n1         1       1  female  38.0      1      0  71.2833        C\n2         1       3  female  26.0      0      0   7.9250        S\n3         1       1  female  35.0      1      0  53.1000        S\n4         0       3    male  35.0      0      0   8.0500        S",
            "text/html": "<div>\n<style scoped>\n    .dataframe tbody tr th:only-of-type {\n        vertical-align: middle;\n    }\n\n    .dataframe tbody tr th {\n        vertical-align: top;\n    }\n\n    .dataframe thead th {\n        text-align: right;\n    }\n</style>\n<table border=\"1\" class=\"dataframe\">\n  <thead>\n    <tr style=\"text-align: right;\">\n      <th></th>\n      <th>Survived</th>\n      <th>Pclass</th>\n      <th>Sex</th>\n      <th>Age</th>\n      <th>SibSp</th>\n      <th>Parch</th>\n      <th>Fare</th>\n      <th>Embarked</th>\n    </tr>\n  </thead>\n  <tbody>\n    <tr>\n      <th>0</th>\n      <td>0</td>\n      <td>3</td>\n      <td>male</td>\n      <td>22.0</td>\n      <td>1</td>\n      <td>0</td>\n      <td>7.2500</td>\n      <td>S</td>\n    </tr>\n    <tr>\n      <th>1</th>\n      <td>1</td>\n      <td>1</td>\n      <td>female</td>\n      <td>38.0</td>\n      <td>1</td>\n      <td>0</td>\n      <td>71.2833</td>\n      <td>C</td>\n    </tr>\n    <tr>\n      <th>2</th>\n      <td>1</td>\n      <td>3</td>\n      <td>female</td>\n      <td>26.0</td>\n      <td>0</td>\n      <td>0</td>\n      <td>7.9250</td>\n      <td>S</td>\n    </tr>\n    <tr>\n      <th>3</th>\n      <td>1</td>\n      <td>1</td>\n      <td>female</td>\n      <td>35.0</td>\n      <td>1</td>\n      <td>0</td>\n      <td>53.1000</td>\n      <td>S</td>\n    </tr>\n    <tr>\n      <th>4</th>\n      <td>0</td>\n      <td>3</td>\n      <td>male</td>\n      <td>35.0</td>\n      <td>0</td>\n      <td>0</td>\n      <td>8.0500</td>\n      <td>S</td>\n    </tr>\n  </tbody>\n</table>\n</div>"
          },
          "metadata": {}
        }
      ]
    },
    {
      "metadata": {
        "trusted": true,
        "_uuid": "2d7b8f4f40ec81663456f60bffb12afe2237e77a"
      },
      "cell_type": "code",
      "source": "X = train.iloc[:,1:8].values\ny = train.iloc[:,0].values",
      "execution_count": 162,
      "outputs": []
    },
    {
      "metadata": {
        "trusted": true,
        "_uuid": "e123872af70e478e2e5cd8c8aaac1d268c2483cf"
      },
      "cell_type": "code",
      "source": "X[0,:]",
      "execution_count": 163,
      "outputs": [
        {
          "output_type": "execute_result",
          "execution_count": 163,
          "data": {
            "text/plain": "array([3, 'male', 22.0, 1, 0, 7.25, 'S'], dtype=object)"
          },
          "metadata": {}
        }
      ]
    },
    {
      "metadata": {
        "trusted": true,
        "_uuid": "f55cc8fba7b0f7cc1efcf24bd3bd6c814ffd9065",
        "collapsed": true
      },
      "cell_type": "code",
      "source": "def encode(X) :\n    le_s = LabelEncoder()\n    le_e = LabelEncoder()\n    X[:,1] = le_s.fit_transform(X[:,1])\n    X[:,6] = le_e.fit_transform(X[:,6])\n    return X\n\ndef OHEncode(X) :\n    ohe = OneHotEncoder(categorical_features=[6])\n    X = ohe.fit_transform(X).toarray()\n    #X = X[:,:] - X[:,[147,150]]\n    return X",
      "execution_count": 164,
      "outputs": []
    },
    {
      "metadata": {
        "trusted": true,
        "_uuid": "4a117de998fb5125373f4a489479e4510c00f076"
      },
      "cell_type": "code",
      "source": "X = encode(X)\nprint(X[0,:])",
      "execution_count": 165,
      "outputs": [
        {
          "output_type": "stream",
          "text": "[3 1 22.0 1 0 7.25 2]\n",
          "name": "stdout"
        }
      ]
    },
    {
      "metadata": {
        "trusted": true,
        "_uuid": "541fa22f58388ef9cd10c3bdf0792ef992938117"
      },
      "cell_type": "code",
      "source": "X = OHEncode(X)\n#X = np.delete(X, 147, 1)     #to escape dummy variable trap\n#X = np.delete(X, 149, 1)\nX = X[:,1:]\nX[0,:]",
      "execution_count": 166,
      "outputs": [
        {
          "output_type": "stream",
          "text": "/opt/conda/lib/python3.6/site-packages/sklearn/preprocessing/_encoders.py:405: FutureWarning: The handling of integer data will change in version 0.22. Currently, the categories are determined based on the range [0, max(values)], while in the future they will be determined based on the unique values.\nIf you want the future behaviour and silence this warning, you can specify \"categories='auto'\".\nIn case you used a LabelEncoder before this OneHotEncoder to convert the categories to integers, then you can now use the OneHotEncoder directly.\n  warnings.warn(msg, FutureWarning)\n/opt/conda/lib/python3.6/site-packages/sklearn/preprocessing/_encoders.py:427: DeprecationWarning: The 'categorical_features' keyword is deprecated in version 0.20 and will be removed in 0.22. You can use the ColumnTransformer instead.\n  \"use the ColumnTransformer instead.\", DeprecationWarning)\n",
          "name": "stderr"
        },
        {
          "output_type": "execute_result",
          "execution_count": 166,
          "data": {
            "text/plain": "array([ 0.  ,  1.  ,  3.  ,  1.  , 22.  ,  1.  ,  0.  ,  7.25])"
          },
          "metadata": {}
        }
      ]
    },
    {
      "metadata": {
        "trusted": true,
        "_uuid": "2458bc24a98aee20885d446a76fed9f721200daa",
        "collapsed": true
      },
      "cell_type": "code",
      "source": "from sklearn.model_selection import train_test_split\nX_train, X_test, y_train, y_test = train_test_split(X, y, test_size = 0.25, random_state = 0)",
      "execution_count": 167,
      "outputs": []
    },
    {
      "metadata": {
        "trusted": true,
        "_uuid": "962ecc478a84fd3dbf748f423582ea928b70589c",
        "collapsed": true
      },
      "cell_type": "code",
      "source": "from sklearn.ensemble import ExtraTreesClassifier, RandomForestClassifier,GradientBoostingClassifier\nfrom sklearn.tree import DecisionTreeClassifier\nfrom sklearn.metrics import accuracy_score\nfrom sklearn.preprocessing import StandardScaler\nfrom sklearn.svm import SVC",
      "execution_count": 168,
      "outputs": []
    },
    {
      "metadata": {
        "trusted": true,
        "_uuid": "c2f739019acd316c15de42813e76f78ffac35e92"
      },
      "cell_type": "code",
      "source": "rfr =  RandomForestClassifier (n_estimators=151, max_depth=14,max_features= \"log2\", random_state = 21)\nrfr.fit(X_train,y_train)\n\next = ExtraTreesClassifier(n_estimators=151, max_depth=14, max_features= \"log2\", random_state = 21)\next.fit(X_train,y_train)\n\ndtr = DecisionTreeClassifier(max_depth=14, max_features= \"log2\", random_state = 21)\ndtr.fit(X_train,y_train)\n\nsvc = SVC(kernel = 'rbf',random_state = 21)#, max_features = \"log2\")\nsvc.fit(X_train,y_train)\n\nprint(\"Random Forest Model\")\nprint(\"Train Score {}\".format(rfr.score(X_train,y_train)))\nprint(\"Test Score {}\".format(rfr.score(X_test,y_test)))\nprint(\"\\n\")\nprint(\"ExtraTreesRegressor Model\")\nprint(\"Train Score {}\".format(ext.score(X_train,y_train)))\nprint(\"Test Score {}\".format(ext.score(X_test,y_test)))\nprint(\"\\n\")\nprint(\"DecisonTree Model\")\nprint(\"Train Score {}\".format(dtr.score(X_train,y_train)))\nprint(\"Test Score {}\".format(dtr.score(X_test,y_test)))\nprint(\"\\n\")\nprint(\"Support Vector Model\")\nprint(\"Train Score {}\".format(svc.score(X_train,y_train)))\nprint(\"Test Score {}\".format(svc.score(X_test,y_test)))",
      "execution_count": 172,
      "outputs": [
        {
          "output_type": "stream",
          "text": "Random Forest Model\nTrain Score 0.9760479041916168\nTest Score 0.8699551569506726\n\n\nExtraTreesRegressor Model\nTrain Score 0.9565868263473054\nTest Score 0.820627802690583\n\n\nDecisonTree Model\nTrain Score 0.9520958083832335\nTest Score 0.7937219730941704\n\n\nSupport Vector Model\nTrain Score 0.8847305389221557\nTest Score 0.726457399103139\n",
          "name": "stdout"
        },
        {
          "output_type": "stream",
          "text": "/opt/conda/lib/python3.6/site-packages/sklearn/svm/base.py:196: FutureWarning: The default value of gamma will change from 'auto' to 'scale' in version 0.22 to account better for unscaled features. Set gamma explicitly to 'auto' or 'scale' to avoid this warning.\n  \"avoid this warning.\", FutureWarning)\n",
          "name": "stderr"
        }
      ]
    },
    {
      "metadata": {
        "trusted": true,
        "_uuid": "4b13b993190fc681361b4d38d6b73b86037e6028",
        "scrolled": false
      },
      "cell_type": "code",
      "source": "# for i in range(150,300):\n#     for j in range(0,100):\n#         ext = ExtraTreesClassifier(n_estimators=i, max_depth=14, max_features= \"log2\", random_state = j)\n#         ext.fit(X_train,y_train)\n        \n#         rfr =  RandomForestClassifier (n_estimators=i, max_depth=14,max_features= \"log2\", random_state = j)\n#         rfr.fit(X_train,y_train)\n\n#         dtr = DecisionTreeClassifier(max_depth=14, max_features= \"log2\", random_state = j)\n#         dtr.fit(X_train,y_train)\n#         #e = symmetric_mean_absolute_percentage_error(y_test, ext.predict(X_test))\n#         #r = symmetric_mean_absolute_percentage_error(y_test, rfr.predict(X_test))\n#         #d = symmetric_mean_absolute_percentage_error(y_test, dtr.predict(X_test))\n#         e = ext.score(X_test,y_test)\n#         r = rfr.score(X_test,y_test)\n#         d = dtr.score(X_test,y_test)\n#         #print(e,r,d)\n#         if max(e,r,d) == e :\n#             a = 'ext'\n#         elif max(e,r,d) == r :\n#             a = 'rfr'\n#         else :\n#             a = 'dtr'\n#         if (max(e,r,d) > 0.86) :\n#             print('est = '+str(i)+'|'+'rs = '+str(j)+'|'+str(max(e,r,d))+'|'+a)\n#         else :\n#             print('working...', end='\\r')",
      "execution_count": 173,
      "outputs": []
    },
    {
      "metadata": {
        "_uuid": "85b9eda7120778799884e7e38b59c57f9e0b7a1b"
      },
      "cell_type": "markdown",
      "source": "Fitting with the complete training set"
    },
    {
      "metadata": {
        "trusted": true,
        "_uuid": "7dae0dee2006cc8ec7c0a96a9a267579d569c872"
      },
      "cell_type": "code",
      "source": "rfr =  RandomForestClassifier (n_estimators=151, max_depth=14,max_features= \"log2\", random_state = 21)\nrfr.fit(X,y)",
      "execution_count": 174,
      "outputs": [
        {
          "output_type": "execute_result",
          "execution_count": 174,
          "data": {
            "text/plain": "RandomForestClassifier(bootstrap=True, class_weight=None, criterion='gini',\n            max_depth=14, max_features='log2', max_leaf_nodes=None,\n            min_impurity_decrease=0.0, min_impurity_split=None,\n            min_samples_leaf=1, min_samples_split=2,\n            min_weight_fraction_leaf=0.0, n_estimators=151, n_jobs=1,\n            oob_score=False, random_state=21, verbose=0, warm_start=False)"
          },
          "metadata": {}
        }
      ]
    },
    {
      "metadata": {
        "_uuid": "d16cde9849715ec700d55d2d291c64991f1d07f3"
      },
      "cell_type": "markdown",
      "source": "Processing the testing set"
    },
    {
      "metadata": {
        "trusted": true,
        "_uuid": "53e28f4919d931ee9b0ce78fc81591a5c3b5d35c"
      },
      "cell_type": "code",
      "source": "df_test.head()",
      "execution_count": 175,
      "outputs": [
        {
          "output_type": "execute_result",
          "execution_count": 175,
          "data": {
            "text/plain": "   PassengerId  Pclass   ...    Cabin Embarked\n0          892       3   ...      NaN        Q\n1          893       3   ...      NaN        S\n2          894       2   ...      NaN        Q\n3          895       3   ...      NaN        S\n4          896       3   ...      NaN        S\n\n[5 rows x 11 columns]",
            "text/html": "<div>\n<style scoped>\n    .dataframe tbody tr th:only-of-type {\n        vertical-align: middle;\n    }\n\n    .dataframe tbody tr th {\n        vertical-align: top;\n    }\n\n    .dataframe thead th {\n        text-align: right;\n    }\n</style>\n<table border=\"1\" class=\"dataframe\">\n  <thead>\n    <tr style=\"text-align: right;\">\n      <th></th>\n      <th>PassengerId</th>\n      <th>Pclass</th>\n      <th>Name</th>\n      <th>Sex</th>\n      <th>Age</th>\n      <th>SibSp</th>\n      <th>Parch</th>\n      <th>Ticket</th>\n      <th>Fare</th>\n      <th>Cabin</th>\n      <th>Embarked</th>\n    </tr>\n  </thead>\n  <tbody>\n    <tr>\n      <th>0</th>\n      <td>892</td>\n      <td>3</td>\n      <td>Kelly, Mr. James</td>\n      <td>male</td>\n      <td>34.5</td>\n      <td>0</td>\n      <td>0</td>\n      <td>330911</td>\n      <td>7.8292</td>\n      <td>NaN</td>\n      <td>Q</td>\n    </tr>\n    <tr>\n      <th>1</th>\n      <td>893</td>\n      <td>3</td>\n      <td>Wilkes, Mrs. James (Ellen Needs)</td>\n      <td>female</td>\n      <td>47.0</td>\n      <td>1</td>\n      <td>0</td>\n      <td>363272</td>\n      <td>7.0000</td>\n      <td>NaN</td>\n      <td>S</td>\n    </tr>\n    <tr>\n      <th>2</th>\n      <td>894</td>\n      <td>2</td>\n      <td>Myles, Mr. Thomas Francis</td>\n      <td>male</td>\n      <td>62.0</td>\n      <td>0</td>\n      <td>0</td>\n      <td>240276</td>\n      <td>9.6875</td>\n      <td>NaN</td>\n      <td>Q</td>\n    </tr>\n    <tr>\n      <th>3</th>\n      <td>895</td>\n      <td>3</td>\n      <td>Wirz, Mr. Albert</td>\n      <td>male</td>\n      <td>27.0</td>\n      <td>0</td>\n      <td>0</td>\n      <td>315154</td>\n      <td>8.6625</td>\n      <td>NaN</td>\n      <td>S</td>\n    </tr>\n    <tr>\n      <th>4</th>\n      <td>896</td>\n      <td>3</td>\n      <td>Hirvonen, Mrs. Alexander (Helga E Lindqvist)</td>\n      <td>female</td>\n      <td>22.0</td>\n      <td>1</td>\n      <td>1</td>\n      <td>3101298</td>\n      <td>12.2875</td>\n      <td>NaN</td>\n      <td>S</td>\n    </tr>\n  </tbody>\n</table>\n</div>"
          },
          "metadata": {}
        }
      ]
    },
    {
      "metadata": {
        "trusted": true,
        "collapsed": true,
        "_uuid": "4f6a101a1b5cee8fac1081fb193462f35d7f9d65"
      },
      "cell_type": "code",
      "source": "test = df_test\npassenger_id = test['PassengerId'].values",
      "execution_count": 176,
      "outputs": []
    },
    {
      "metadata": {
        "trusted": true,
        "_uuid": "2bc41a507bf4ca3163d69f7113051304d9013477"
      },
      "cell_type": "code",
      "source": "del test['Name']\ndel test['Ticket']\ndel test['Cabin']\ndel test['PassengerId']",
      "execution_count": 177,
      "outputs": []
    },
    {
      "metadata": {
        "trusted": true,
        "_uuid": "66a52fd0351106ae30405925829078f606a3be89"
      },
      "cell_type": "code",
      "source": "test.head()",
      "execution_count": 178,
      "outputs": [
        {
          "output_type": "execute_result",
          "execution_count": 178,
          "data": {
            "text/plain": "   Pclass     Sex   Age  SibSp  Parch     Fare Embarked\n0       3    male  34.5      0      0   7.8292        Q\n1       3  female  47.0      1      0   7.0000        S\n2       2    male  62.0      0      0   9.6875        Q\n3       3    male  27.0      0      0   8.6625        S\n4       3  female  22.0      1      1  12.2875        S",
            "text/html": "<div>\n<style scoped>\n    .dataframe tbody tr th:only-of-type {\n        vertical-align: middle;\n    }\n\n    .dataframe tbody tr th {\n        vertical-align: top;\n    }\n\n    .dataframe thead th {\n        text-align: right;\n    }\n</style>\n<table border=\"1\" class=\"dataframe\">\n  <thead>\n    <tr style=\"text-align: right;\">\n      <th></th>\n      <th>Pclass</th>\n      <th>Sex</th>\n      <th>Age</th>\n      <th>SibSp</th>\n      <th>Parch</th>\n      <th>Fare</th>\n      <th>Embarked</th>\n    </tr>\n  </thead>\n  <tbody>\n    <tr>\n      <th>0</th>\n      <td>3</td>\n      <td>male</td>\n      <td>34.5</td>\n      <td>0</td>\n      <td>0</td>\n      <td>7.8292</td>\n      <td>Q</td>\n    </tr>\n    <tr>\n      <th>1</th>\n      <td>3</td>\n      <td>female</td>\n      <td>47.0</td>\n      <td>1</td>\n      <td>0</td>\n      <td>7.0000</td>\n      <td>S</td>\n    </tr>\n    <tr>\n      <th>2</th>\n      <td>2</td>\n      <td>male</td>\n      <td>62.0</td>\n      <td>0</td>\n      <td>0</td>\n      <td>9.6875</td>\n      <td>Q</td>\n    </tr>\n    <tr>\n      <th>3</th>\n      <td>3</td>\n      <td>male</td>\n      <td>27.0</td>\n      <td>0</td>\n      <td>0</td>\n      <td>8.6625</td>\n      <td>S</td>\n    </tr>\n    <tr>\n      <th>4</th>\n      <td>3</td>\n      <td>female</td>\n      <td>22.0</td>\n      <td>1</td>\n      <td>1</td>\n      <td>12.2875</td>\n      <td>S</td>\n    </tr>\n  </tbody>\n</table>\n</div>"
          },
          "metadata": {}
        }
      ]
    },
    {
      "metadata": {
        "trusted": true,
        "_uuid": "a31ebbefc0dca942079f240e5dcc9a29974013df"
      },
      "cell_type": "code",
      "source": "test.info()",
      "execution_count": 179,
      "outputs": [
        {
          "output_type": "stream",
          "text": "<class 'pandas.core.frame.DataFrame'>\nRangeIndex: 418 entries, 0 to 417\nData columns (total 7 columns):\nPclass      418 non-null int64\nSex         418 non-null object\nAge         332 non-null float64\nSibSp       418 non-null int64\nParch       418 non-null int64\nFare        417 non-null float64\nEmbarked    418 non-null object\ndtypes: float64(2), int64(3), object(2)\nmemory usage: 22.9+ KB\n",
          "name": "stdout"
        }
      ]
    },
    {
      "metadata": {
        "trusted": true,
        "_uuid": "ee4d6ed159950b0ee5835b850262d86610702c5f"
      },
      "cell_type": "code",
      "source": "#complete age with median\ntest['Age'].fillna(test['Age'].median(), inplace = True)\n\n#complete embarked with mode\ntest['Embarked'].fillna(test['Embarked'].mode()[0], inplace = True)\n\n#complete missing fare with median\ntest['Fare'].fillna(test['Fare'].median(), inplace = True)",
      "execution_count": 180,
      "outputs": []
    },
    {
      "metadata": {
        "trusted": true,
        "_uuid": "c2040c7c0a303cff4c7802819b470c1567e1758e"
      },
      "cell_type": "code",
      "source": "test.info()",
      "execution_count": 181,
      "outputs": [
        {
          "output_type": "stream",
          "text": "<class 'pandas.core.frame.DataFrame'>\nRangeIndex: 418 entries, 0 to 417\nData columns (total 7 columns):\nPclass      418 non-null int64\nSex         418 non-null object\nAge         418 non-null float64\nSibSp       418 non-null int64\nParch       418 non-null int64\nFare        418 non-null float64\nEmbarked    418 non-null object\ndtypes: float64(2), int64(3), object(2)\nmemory usage: 22.9+ KB\n",
          "name": "stdout"
        }
      ]
    },
    {
      "metadata": {
        "trusted": true,
        "_uuid": "14d52d5e65220e41977a4511be71c63fe74b5413"
      },
      "cell_type": "code",
      "source": "X_test = test.values\nprint(X_test[0,:])",
      "execution_count": 182,
      "outputs": [
        {
          "output_type": "stream",
          "text": "[3 'male' 34.5 0 0 7.8292 'Q']\n",
          "name": "stdout"
        }
      ]
    },
    {
      "metadata": {
        "trusted": true,
        "_uuid": "1a0a11a28543c4266dc1a1b9ea7457cb99ef4a1d"
      },
      "cell_type": "code",
      "source": "X_test = encode(X_test)\nprint(X_test[0,:])",
      "execution_count": 183,
      "outputs": [
        {
          "output_type": "stream",
          "text": "[3 1 34.5 0 0 7.8292 1]\n",
          "name": "stdout"
        }
      ]
    },
    {
      "metadata": {
        "trusted": true,
        "_uuid": "e82baf961f5a46071db091df77153bbbd14eb172"
      },
      "cell_type": "code",
      "source": "X_test = OHEncode(X_test)\n#X = np.delete(X, 147, 1)     #to escape dummy variable trap\n#X = np.delete(X, 149, 1)\nX_test = X_test[:,1:]\nX_test[0,:]",
      "execution_count": 184,
      "outputs": [
        {
          "output_type": "stream",
          "text": "/opt/conda/lib/python3.6/site-packages/sklearn/preprocessing/_encoders.py:405: FutureWarning: The handling of integer data will change in version 0.22. Currently, the categories are determined based on the range [0, max(values)], while in the future they will be determined based on the unique values.\nIf you want the future behaviour and silence this warning, you can specify \"categories='auto'\".\nIn case you used a LabelEncoder before this OneHotEncoder to convert the categories to integers, then you can now use the OneHotEncoder directly.\n  warnings.warn(msg, FutureWarning)\n/opt/conda/lib/python3.6/site-packages/sklearn/preprocessing/_encoders.py:427: DeprecationWarning: The 'categorical_features' keyword is deprecated in version 0.20 and will be removed in 0.22. You can use the ColumnTransformer instead.\n  \"use the ColumnTransformer instead.\", DeprecationWarning)\n",
          "name": "stderr"
        },
        {
          "output_type": "execute_result",
          "execution_count": 184,
          "data": {
            "text/plain": "array([ 1.    ,  0.    ,  3.    ,  1.    , 34.5   ,  0.    ,  0.    ,\n        7.8292])"
          },
          "metadata": {}
        }
      ]
    },
    {
      "metadata": {
        "trusted": true,
        "_uuid": "4ba2b0f54e31467d001505f5a85c8472d2c3c6d7"
      },
      "cell_type": "code",
      "source": "X.shape",
      "execution_count": 185,
      "outputs": [
        {
          "output_type": "execute_result",
          "execution_count": 185,
          "data": {
            "text/plain": "(891, 8)"
          },
          "metadata": {}
        }
      ]
    },
    {
      "metadata": {
        "trusted": true,
        "_uuid": "3ede3dc1ba41fe429c94b8fab2d2bec0ffde1f24"
      },
      "cell_type": "code",
      "source": "X_test.shape",
      "execution_count": 186,
      "outputs": [
        {
          "output_type": "execute_result",
          "execution_count": 186,
          "data": {
            "text/plain": "(418, 8)"
          },
          "metadata": {}
        }
      ]
    },
    {
      "metadata": {
        "trusted": true,
        "collapsed": true,
        "_uuid": "0ad002692d997e4beb43dbae8d2dcafe9fbfb770"
      },
      "cell_type": "code",
      "source": "y_pred = rfr.predict(X_test)",
      "execution_count": 187,
      "outputs": []
    },
    {
      "metadata": {
        "trusted": true,
        "_uuid": "31e30472c05a1a8966ac1f46df19f90b5489f563"
      },
      "cell_type": "code",
      "source": "subimssion_dict = {'PassengerId' : passenger_id, 'Survived' : y_pred}",
      "execution_count": 192,
      "outputs": []
    },
    {
      "metadata": {
        "trusted": true,
        "collapsed": true,
        "_uuid": "9a7ad51188b16fde546bcd91139ad9d665798f42"
      },
      "cell_type": "code",
      "source": "submission = pd.DataFrame(subimssion_dict)",
      "execution_count": 193,
      "outputs": []
    },
    {
      "metadata": {
        "trusted": true,
        "_uuid": "d2a6fd7b6aa1fef677a98c4bef2e318164277bff"
      },
      "cell_type": "code",
      "source": "submission.tail()",
      "execution_count": 197,
      "outputs": [
        {
          "output_type": "execute_result",
          "execution_count": 197,
          "data": {
            "text/plain": "     PassengerId  Survived\n413         1305         0\n414         1306         1\n415         1307         0\n416         1308         0\n417         1309         1",
            "text/html": "<div>\n<style scoped>\n    .dataframe tbody tr th:only-of-type {\n        vertical-align: middle;\n    }\n\n    .dataframe tbody tr th {\n        vertical-align: top;\n    }\n\n    .dataframe thead th {\n        text-align: right;\n    }\n</style>\n<table border=\"1\" class=\"dataframe\">\n  <thead>\n    <tr style=\"text-align: right;\">\n      <th></th>\n      <th>PassengerId</th>\n      <th>Survived</th>\n    </tr>\n  </thead>\n  <tbody>\n    <tr>\n      <th>413</th>\n      <td>1305</td>\n      <td>0</td>\n    </tr>\n    <tr>\n      <th>414</th>\n      <td>1306</td>\n      <td>1</td>\n    </tr>\n    <tr>\n      <th>415</th>\n      <td>1307</td>\n      <td>0</td>\n    </tr>\n    <tr>\n      <th>416</th>\n      <td>1308</td>\n      <td>0</td>\n    </tr>\n    <tr>\n      <th>417</th>\n      <td>1309</td>\n      <td>1</td>\n    </tr>\n  </tbody>\n</table>\n</div>"
          },
          "metadata": {}
        }
      ]
    },
    {
      "metadata": {
        "trusted": true,
        "_uuid": "4da19668401b40c4b6081a16c3200fe7003f7779"
      },
      "cell_type": "code",
      "source": "",
      "execution_count": null,
      "outputs": []
    },
    {
      "metadata": {
        "trusted": true,
        "collapsed": true,
        "_uuid": "8f0b401edba37e3defa4859d04d4aa725df471cb"
      },
      "cell_type": "code",
      "source": "",
      "execution_count": null,
      "outputs": []
    }
  ],
  "metadata": {
    "kernelspec": {
      "display_name": "Python 3",
      "language": "python",
      "name": "python3"
    },
    "language_info": {
      "name": "python",
      "version": "3.6.6",
      "mimetype": "text/x-python",
      "codemirror_mode": {
        "name": "ipython",
        "version": 3
      },
      "pygments_lexer": "ipython3",
      "nbconvert_exporter": "python",
      "file_extension": ".py"
    }
  },
  "nbformat": 4,
  "nbformat_minor": 1
}